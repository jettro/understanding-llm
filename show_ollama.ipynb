{
 "cells": [
  {
   "cell_type": "code",
   "id": "initial_id",
   "metadata": {
    "collapsed": true,
    "ExecuteTime": {
     "end_time": "2024-04-30T22:03:36.686662Z",
     "start_time": "2024-04-30T22:03:10.286006Z"
    }
   },
   "source": [
    "import ollama\n",
    "\n",
    "response = ollama.chat(model='llama3', messages=[{'role': 'user', 'content': 'Where are Smurfs from?'}])\n",
    "\n",
    "print(response['message']['content'])"
   ],
   "outputs": [
    {
     "name": "stdout",
     "output_type": "stream",
     "text": [
      "A classic question!\n",
      "\n",
      "The Smurfs are small, blue, human-like creatures that live in a mushroom-shaped village called Smurf Village. According to the franchise's creator, Peyo (Pierre Culliford), the Smurfs originated from the fictional forest of Smurfberry Forest, which is located in the fictional country of Smurfland.\n",
      "\n",
      "In the Smurfs' world, they live in harmony with nature and have a special connection with the forest and its creatures. The Smurfs are known for their small size (about 3 feet tall), their blue skin, white hats, and their love of all things sweet and smurfberry-related!\n"
     ]
    }
   ],
   "execution_count": 2
  },
  {
   "metadata": {
    "ExecuteTime": {
     "end_time": "2024-04-30T22:06:00.698849Z",
     "start_time": "2024-04-30T22:04:49.312563Z"
    }
   },
   "cell_type": "code",
   "source": [
    "response = ollama.chat(model='llama3', messages=[{'role': 'user', 'content': 'Give me a list of Smurf names in json format. Add age and gender if possible.'}])\n",
    "\n",
    "print(response['message']['content'])"
   ],
   "id": "d6365688050f3c80",
   "outputs": [
    {
     "name": "stdout",
     "output_type": "stream",
     "text": [
      "Here is the list of Smurfs in JSON format, including their age and gender where available:\n",
      "\n",
      "```\n",
      "[\n",
      "  {\n",
      "    \"name\": \"Papa Smurf\",\n",
      "    \"age\": \"Unknown (old enough to be wise)\",\n",
      "    \"gender\": \"Male\"\n",
      "  },\n",
      "  {\n",
      "    \"name\": \"Smurfette\",\n",
      "    \"age\": \"Unknown (created by Gargamel, but became a part of the Smurfs' community)\",\n",
      "    \"gender\": \"Female\"\n",
      "  },\n",
      "  {\n",
      "    \"name\": \"Brainy Smurf\",\n",
      "    \"age\": \"Unknown (young enough to be curious)\",\n",
      "    \"gender\": \"Male\"\n",
      "  },\n",
      "  {\n",
      "    \"name\": \"Clumsy Smurf\",\n",
      "    \"age\": \"Unknown (young enough to still be learning)\",\n",
      "    \"gender\": \"Male\"\n",
      "  },\n",
      "  {\n",
      "    \"name\": \"Jokey Smurf\",\n",
      "    \"age\": \"Unknown (young and full of energy)\",\n",
      "    \"gender\": \"Male\"\n",
      "  },\n",
      "  {\n",
      "    \"name\": \"Hefty Smurf\",\n",
      "    \"age\": \"Unknown (strong and capable)\",\n",
      "    \"gender\": \"Male\"\n",
      "  },\n",
      "  {\n",
      "    \"name\": \"Greedy Smurf\",\n",
      "    \"age\": \"Unknown (old enough to have a long history of overindulgence)\",\n",
      "    \"gender\": \"Male\"\n",
      "  },\n",
      "  {\n",
      "    \"name\": \"Harmony Smurf\",\n",
      "    \"age\": \"Unknown (young and full of life)\",\n",
      "    \"gender\": \"Female\"\n",
      "  },\n",
      "  {\n",
      "    \"name\": \"Dreamy Smurf\",\n",
      "    \"age\": \"Unknown (young and idealistic)\",\n",
      "    \"gender\": \"Male\"\n",
      "  }\n",
      "]\n",
      "```\n",
      "\n",
      "Note: The ages listed are approximate and based on the characters' personalities, abilities, and relationships within the Smurfs community. The genders are also specified where available, but keep in mind that the Smurfs are a mythical species and their characteristics may not be strictly bound to human norms.\n"
     ]
    }
   ],
   "execution_count": 3
  },
  {
   "metadata": {
    "ExecuteTime": {
     "end_time": "2024-04-30T22:07:27.988728Z",
     "start_time": "2024-04-30T22:07:27.981323Z"
    }
   },
   "cell_type": "code",
   "source": "response",
   "id": "bcf1d1280c33554c",
   "outputs": [
    {
     "data": {
      "text/plain": [
       "{'model': 'llama3',\n",
       " 'created_at': '2024-04-30T22:06:00.695433Z',\n",
       " 'message': {'role': 'assistant',\n",
       "  'content': 'Here is the list of Smurfs in JSON format, including their age and gender where available:\\n\\n```\\n[\\n  {\\n    \"name\": \"Papa Smurf\",\\n    \"age\": \"Unknown (old enough to be wise)\",\\n    \"gender\": \"Male\"\\n  },\\n  {\\n    \"name\": \"Smurfette\",\\n    \"age\": \"Unknown (created by Gargamel, but became a part of the Smurfs\\' community)\",\\n    \"gender\": \"Female\"\\n  },\\n  {\\n    \"name\": \"Brainy Smurf\",\\n    \"age\": \"Unknown (young enough to be curious)\",\\n    \"gender\": \"Male\"\\n  },\\n  {\\n    \"name\": \"Clumsy Smurf\",\\n    \"age\": \"Unknown (young enough to still be learning)\",\\n    \"gender\": \"Male\"\\n  },\\n  {\\n    \"name\": \"Jokey Smurf\",\\n    \"age\": \"Unknown (young and full of energy)\",\\n    \"gender\": \"Male\"\\n  },\\n  {\\n    \"name\": \"Hefty Smurf\",\\n    \"age\": \"Unknown (strong and capable)\",\\n    \"gender\": \"Male\"\\n  },\\n  {\\n    \"name\": \"Greedy Smurf\",\\n    \"age\": \"Unknown (old enough to have a long history of overindulgence)\",\\n    \"gender\": \"Male\"\\n  },\\n  {\\n    \"name\": \"Harmony Smurf\",\\n    \"age\": \"Unknown (young and full of life)\",\\n    \"gender\": \"Female\"\\n  },\\n  {\\n    \"name\": \"Dreamy Smurf\",\\n    \"age\": \"Unknown (young and idealistic)\",\\n    \"gender\": \"Male\"\\n  }\\n]\\n```\\n\\nNote: The ages listed are approximate and based on the characters\\' personalities, abilities, and relationships within the Smurfs community. The genders are also specified where available, but keep in mind that the Smurfs are a mythical species and their characteristics may not be strictly bound to human norms.'},\n",
       " 'done': True,\n",
       " 'total_duration': 71377479056,\n",
       " 'load_duration': 2333717,\n",
       " 'prompt_eval_count': 24,\n",
       " 'prompt_eval_duration': 1408150000,\n",
       " 'eval_count': 409,\n",
       " 'eval_duration': 69965681000}"
      ]
     },
     "execution_count": 4,
     "metadata": {},
     "output_type": "execute_result"
    }
   ],
   "execution_count": 4
  },
  {
   "metadata": {
    "ExecuteTime": {
     "end_time": "2024-04-30T22:13:06.631323Z",
     "start_time": "2024-04-30T22:12:51.437353Z"
    }
   },
   "cell_type": "code",
   "source": [
    "response = ollama.chat(model='phi3', messages=[{'role': 'user', 'content': 'Give me a list of Smurf names in json format. Add age and gender if possible.'}])\n",
    "\n",
    "print(response['message']['content'])"
   ],
   "id": "741e94867c319d9c",
   "outputs": [
    {
     "name": "stdout",
     "output_type": "stream",
     "text": [
      "```json\n",
      "[\n",
      "    {\"name\": \"Berthe\", \"age\": 35, \"gender\": \"Female\"},\n",
      "    {\"name\": \"Grisaal\", \"age\": 40, \"gender\": \"Male\"},\n",
      "    {\"name\": \"Gargamel\", \"age\": 42, \"gender\": \"Male\"},\n",
      "    {\"name\": \"Peurisse\", \"age\": 38, \"gender\": \"Female\"},\n",
      "    {\"name\": \"Horace\", \"age\": 50, \"gender\": \"Male\"}\n",
      "]\n",
      "```\n",
      "(Note: The names and ages provided are inspired by the Smurfs but do not represent actual characters from the original series or comics.)\n"
     ]
    }
   ],
   "execution_count": 5
  },
  {
   "metadata": {
    "ExecuteTime": {
     "end_time": "2024-04-30T22:24:08.217406Z",
     "start_time": "2024-04-30T22:22:59.353611Z"
    }
   },
   "cell_type": "code",
   "source": [
    "response = ollama.chat(model='gemma:7b', messages=[{'role': 'user', 'content': 'Give me a list of Smurf names in json format. Add age and gender if possible.'}])\n",
    "\n",
    "print(response['message']['content'])"
   ],
   "id": "71b4f39b6494295a",
   "outputs": [
    {
     "name": "stdout",
     "output_type": "stream",
     "text": [
      "```json\n",
      "[\n",
      "  {\n",
      "    \"name\": \"Smurf\",\n",
      "    \"age\": 25,\n",
      "    \"gender\": \"Male\"\n",
      "  },\n",
      "  {\n",
      "    \"name\": \"Brainy\",\n",
      "    \"age\": 28,\n",
      "    \"gender\": \"Male\"\n",
      "  },\n",
      "  {\n",
      "    \"name\": \"Clumsy\",\n",
      "    \"age\": 24,\n",
      "    \"gender\": \"Male\"\n",
      "  },\n",
      "  {\n",
      "    \"name\": \"Gutsy\",\n",
      "    \"age\": 27,\n",
      "    \"gender\": \"Male\"\n",
      "  },\n",
      "  {\n",
      "    \"name\": \"Harmony\",\n",
      "    \"age\": 26,\n",
      "    \"gender\": \"Female\"\n",
      "  },\n",
      "  {\n",
      "    \"name\": \"Jokey\",\n",
      "    \"age\": 23,\n",
      "    \"gender\": \"Male\"\n",
      "  },\n",
      "  {\n",
      "    \"name\": \"Handy\",\n",
      "    \"age\": 29,\n",
      "    \"gender\": \"Male\"\n",
      "  },\n",
      "  {\n",
      "    \"name\": \"Grouchy\",\n",
      "    \"age\": 30,\n",
      "    \"gender\": \"Male\"\n",
      "  },\n",
      "  {\n",
      "    \"name\": \"Azrael\",\n",
      "    \"age\": 22,\n",
      "    \"gender\": \"Male\"\n",
      "  },\n",
      "  {\n",
      "    \"name\": \"Azalea\",\n",
      "    \"age\": 29,\n",
      "    \"gender\": \"Female\"\n",
      "  }\n",
      "]\n",
      "```\n"
     ]
    }
   ],
   "execution_count": 6
  },
  {
   "metadata": {
    "ExecuteTime": {
     "end_time": "2024-04-30T22:26:13.176623Z",
     "start_time": "2024-04-30T22:26:03.232449Z"
    }
   },
   "cell_type": "code",
   "source": [
    "response = ollama.chat(model='gemma:2b', messages=[{'role': 'user', 'content': 'Give me a list of Smurf names in json format. Add age and gender if possible.'}])\n",
    "\n",
    "print(response['message']['content'])"
   ],
   "id": "83816cdd27532bc4",
   "outputs": [
    {
     "name": "stdout",
     "output_type": "stream",
     "text": [
      "```json\n",
      "{\n",
      "  \"names\": [\n",
      "    {\n",
      "      \"name\": \"Smurf\",\n",
      "      \"age\": 25,\n",
      "      \"gender\": \"Male\"\n",
      "    },\n",
      "    {\n",
      "      \"name\": \"Smurfina\",\n",
      "      \"age\": 30,\n",
      "      \"gender\": \"Female\"\n",
      "    },\n",
      "    {\n",
      "      \"name\": \"Smurfling\",\n",
      "      \"age\": 12,\n",
      "      \"gender\": \"Male\"\n",
      "    },\n",
      "    {\n",
      "      \"name\": \"Smurfette\",\n",
      "      \"age\": 17,\n",
      "      \"gender\": \"Female\"\n",
      "    }\n",
      "  ]\n",
      "}\n",
      "```\n"
     ]
    }
   ],
   "execution_count": 7
  },
  {
   "metadata": {
    "ExecuteTime": {
     "end_time": "2024-04-30T22:48:35.942493Z",
     "start_time": "2024-04-30T22:48:35.939102Z"
    }
   },
   "cell_type": "code",
   "source": [
    "context = \"These sturdy creatures are domestic animals used by the peoples of the Andes Mountains. (Their wild relatives are guanacos and vicuñas). Native peoples have used llamas as pack animals for centuries. Typically, they are saddled with loads of 50 to 75 pounds. Under such weight they can cover up to 20 miles in a single day. Pack trains of llamas, which can include several hundred animals, move large amounts of goods over even the very rough terrain of the Andes. Llamas are willing pack animals but only to a point. An overloaded llama will simply refuse to move. These animals often lie down on the ground and they may spit, hiss, or even kick at their owners until their burden is lessened.\"\n",
    "\n",
    "content = f\"\"\"Use the context to answer the question.\n",
    "context: {context}\n",
    "question: What will a lama do when you pack around 50 pounds on it?\n",
    "answer:\n",
    "\"\"\"\n"
   ],
   "id": "ff4e7900833d25e5",
   "outputs": [],
   "execution_count": 13
  },
  {
   "metadata": {
    "ExecuteTime": {
     "end_time": "2024-04-30T22:49:03.110403Z",
     "start_time": "2024-04-30T22:48:37.671766Z"
    }
   },
   "cell_type": "code",
   "source": [
    "response = ollama.chat(model='llama3', messages=[{'role': 'user', 'content': content}])\n",
    "\n",
    "print(response['message']['content'])"
   ],
   "id": "7e22c49ec68c9d82",
   "outputs": [
    {
     "name": "stdout",
     "output_type": "stream",
     "text": [
      "According to the context, if you pack around 50 pounds on a llama, it should be able to cover up to 20 miles in a single day without any issue. It's likely that the llama would willingly continue carrying its load and not exhibit any negative behavior such as lying down, spitting, hissing, or kicking.\n"
     ]
    }
   ],
   "execution_count": 14
  },
  {
   "metadata": {
    "ExecuteTime": {
     "end_time": "2024-04-30T22:49:39.867478Z",
     "start_time": "2024-04-30T22:49:18.913861Z"
    }
   },
   "cell_type": "code",
   "source": [
    "response = ollama.chat(model='gemma:7b', messages=[{'role': 'user', 'content': content}])\n",
    "\n",
    "print(response['message']['content'])"
   ],
   "id": "f36c6093641a89be",
   "outputs": [
    {
     "name": "stdout",
     "output_type": "stream",
     "text": [
      "When overloaded with 50 pounds, a llama will refuse to move and may lie down, spit, hiss, or even kick at its owners.\n"
     ]
    }
   ],
   "execution_count": 15
  },
  {
   "metadata": {
    "ExecuteTime": {
     "end_time": "2024-04-30T22:50:16.061348Z",
     "start_time": "2024-04-30T22:49:54.848507Z"
    }
   },
   "cell_type": "code",
   "source": [
    "response = ollama.chat(model='phi3', messages=[{'role': 'user', 'content': content}])\n",
    "\n",
    "print(response['message']['content'])"
   ],
   "id": "dcd4d4700e3540d6",
   "outputs": [
    {
     "name": "stdout",
     "output_type": "stream",
     "text": [
      "When a llama is packed with around 50 pounds, which falls within the typical load range of 50 to 75 pounds for these animals, it should be able to cover up to 20 miles in a single day. However, as llamas are sensitive to overloading, they will not necessarily \"do\" anything negative; instead, they may continue their work unless pushed beyond their comfortable load limit. If the weight is just at or around this range and handled properly by the caretaker, it should perform well without signs of discomfort such as lying down on the ground, spitting, hissing, or kicking. However, these behaviors are more associated with overloading rather than a light load.\n"
     ]
    }
   ],
   "execution_count": 16
  },
  {
   "metadata": {
    "ExecuteTime": {
     "end_time": "2024-04-30T22:50:49.152416Z",
     "start_time": "2024-04-30T22:50:42.065352Z"
    }
   },
   "cell_type": "code",
   "source": [
    "response = ollama.chat(model='gemma:2b', messages=[{'role': 'user', 'content': content}])\n",
    "\n",
    "print(response['message']['content'])"
   ],
   "id": "431dc119d4631f17",
   "outputs": [
    {
     "name": "stdout",
     "output_type": "stream",
     "text": [
      "When you pack around 50 pounds on a llama, it will typically move the animal by saddling it with loads of 50 to 75 pounds.\n"
     ]
    }
   ],
   "execution_count": 17
  }
 ],
 "metadata": {
  "kernelspec": {
   "display_name": "Python 3",
   "language": "python",
   "name": "python3"
  },
  "language_info": {
   "codemirror_mode": {
    "name": "ipython",
    "version": 2
   },
   "file_extension": ".py",
   "mimetype": "text/x-python",
   "name": "python",
   "nbconvert_exporter": "python",
   "pygments_lexer": "ipython2",
   "version": "2.7.6"
  }
 },
 "nbformat": 4,
 "nbformat_minor": 5
}
