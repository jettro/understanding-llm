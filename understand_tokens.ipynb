{
 "cells": [
  {
   "cell_type": "markdown",
   "id": "6e7e0225-01e4-49a3-9593-41eebe5ee5e8",
   "metadata": {},
   "source": [
    "# Introducing Vocabularies\n",
    "In this notebook, we look at vocabularies. Vocabulary is essential to a large language model as it translates text into numbers. Since models don't work with text, we need to transform pieces of text into tokens. The first step is creating tokens from text; whitespace is often used to create tokens and possibly other characters. We need the vocabulary to translate a token into a number. An LLM does not know all the available words in each language it supports. It becomes problematic when working in a domain with very specific terms."
   ]
  },
  {
   "cell_type": "markdown",
   "id": "3b00abc6-9518-43dc-a6a2-ea9ac0154bc0",
   "metadata": {},
   "source": [
    "## Loading the vocabulary\n",
    "Using the Tiktoken library, we load the OpenAI vocabularies available from the start. The size of the loaded vocabulary is also printed."
   ]
  },
  {
   "cell_type": "code",
   "execution_count": null,
   "id": "db0d43c2-8065-4eab-8554-9ba945cdf627",
   "metadata": {},
   "outputs": [],
   "source": [
    "import tiktoken\n",
    "from understanding_llm import pretty_print_bytes, find_matching_tokens, interactive_mode\n",
    "\n",
    "# encoding = tiktoken.get_encoding(\"cl100k_base\")\n",
    "encoding = tiktoken.get_encoding(\"p50k_base\")\n",
    "vocabulary = encoding.token_byte_values()\n",
    "\n",
    "print(f'Size of the vocabulary: {encoding.n_vocab}')"
   ]
  },
  {
   "cell_type": "markdown",
   "id": "35dc3b4e-5090-46ac-b68a-6dcd8b238b3d",
   "metadata": {},
   "source": [
    "## Encode the text using the encoder\n",
    "Use the loaded encoder with the vocabulary to encode the string into an array of numbers representing the tokens from the vocabulary."
   ]
  },
  {
   "cell_type": "code",
   "execution_count": null,
   "id": "fa8210f7-111f-4db3-ac12-049ce87e1877",
   "metadata": {},
   "outputs": [],
   "source": [
    "text_en = \"Large Language Models: size does matter\"\"\"\n",
    "text_nl = \"Grote Taal Modellen: de grootte is belangrijk\"\n",
    "\n",
    "encoded_en = encoding.encode(text_en)\n",
    "encoded_nl = encoding.encode(text_nl)"
   ]
  },
  {
   "cell_type": "markdown",
   "id": "b7eaee80-767c-46dc-a05c-3689064d25f5",
   "metadata": {},
   "source": [
    "## Print the results\n",
    "We use a function to print the tokens so you can recognise them."
   ]
  },
  {
   "cell_type": "code",
   "execution_count": null,
   "id": "00310dce-400c-4f01-8647-e86ecd13e2b1",
   "metadata": {},
   "outputs": [],
   "source": [
    "pretty_print_bytes(encoded_en, encoding)\n",
    "pretty_print_bytes(encoded_nl, encoding)\n",
    "print(f\"\"\"# tokens en: {len(encoded_en)}\\n# tokens nl: {len(encoded_nl)} \"\"\")"
   ]
  },
  {
   "cell_type": "markdown",
   "id": "b8ab8369-babf-420e-9209-63ce199deaae",
   "metadata": {},
   "source": [
    "# Searching the vocabulary\n",
    "As we have the vocabulary available, we can also search in the vocabulary. Below, we use a few characters and find those items in the vocabulary that contain those characters."
   ]
  },
  {
   "cell_type": "code",
   "execution_count": null,
   "id": "0c6116fc-812d-459e-aa99-0c49e1be0913",
   "metadata": {},
   "outputs": [],
   "source": [
    "find_matching_tokens('side', vocabulary)"
   ]
  },
  {
   "cell_type": "markdown",
   "id": "75ac227b-ffb8-4d78-b4fe-331634c08e32",
   "metadata": {},
   "source": [
    "Below is a form that you can use to find those tokens that contain the tokens that you type. With every character you type, the matching tokens change."
   ]
  },
  {
   "cell_type": "code",
   "execution_count": null,
   "id": "08d60db2-5fc4-4a3f-85e5-df165a46cd74",
   "metadata": {},
   "outputs": [],
   "source": [
    "interactive_mode(encoding, vocabulary)"
   ]
  }
 ],
 "metadata": {
  "kernelspec": {
   "display_name": "Python 3 (ipykernel)",
   "language": "python",
   "name": "python3"
  },
  "language_info": {
   "codemirror_mode": {
    "name": "ipython",
    "version": 3
   },
   "file_extension": ".py",
   "mimetype": "text/x-python",
   "name": "python",
   "nbconvert_exporter": "python",
   "pygments_lexer": "ipython3",
   "version": "3.12.3"
  }
 },
 "nbformat": 4,
 "nbformat_minor": 5
}
