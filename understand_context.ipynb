{
 "cells": [
  {
   "cell_type": "code",
   "id": "initial_id",
   "metadata": {
    "collapsed": true,
    "ExecuteTime": {
     "end_time": "2024-04-30T15:49:28.244819Z",
     "start_time": "2024-04-30T15:49:28.242375Z"
    }
   },
   "source": [
    "import os\n",
    "from openai import OpenAI\n",
    "from dotenv import load_dotenv"
   ],
   "outputs": [],
   "execution_count": 5
  },
  {
   "metadata": {
    "ExecuteTime": {
     "end_time": "2024-04-30T15:49:50.410012Z",
     "start_time": "2024-04-30T15:49:50.387870Z"
    }
   },
   "cell_type": "code",
   "source": [
    "load_dotenv()\n",
    "client = OpenAI(api_key=os.getenv(\"OPENAI_API_KEY\"))"
   ],
   "id": "27ad524caee30aa3",
   "outputs": [],
   "execution_count": 6
  },
  {
   "metadata": {
    "ExecuteTime": {
     "end_time": "2024-04-30T16:24:14.560592Z",
     "start_time": "2024-04-30T16:24:14.556693Z"
    }
   },
   "cell_type": "code",
   "source": [
    "messages = [\n",
    "    {\"role\": \"system\", \"content\": \"You are a helpful holiday assistant.\"},\n",
    "]\n",
    "\n",
    "def append_system_message(message):\n",
    "    return messages.append({\"role\": \"system\", \"content\": message})\n",
    "\n",
    "def append_new_user_message(message):\n",
    "    return messages.append({\"role\": \"user\", \"content\": message})\n",
    "\n",
    "def ask_new_response(message):\n",
    "    append_new_user_message(message)\n",
    "    completion = client.chat.completions.create(\n",
    "        model=\"gpt-4\",\n",
    "        messages=messages\n",
    "    )\n",
    "    content = completion.choices[0].message.content\n",
    "    append_system_message(content)\n",
    "    print(content)\n",
    "    print(f\"\\nNumber of tokens in the prompt was: {completion.usage.prompt_tokens}\")\n",
    "    "
   ],
   "id": "7d4a04ef97f3b68",
   "outputs": [],
   "execution_count": 20
  },
  {
   "metadata": {
    "ExecuteTime": {
     "end_time": "2024-04-30T16:24:31.408810Z",
     "start_time": "2024-04-30T16:24:17.221430Z"
    }
   },
   "cell_type": "code",
   "source": "ask_new_response(\"What is a good country for a super holiday?\")",
   "id": "a468c7112ad46b50",
   "outputs": [
    {
     "name": "stdout",
     "output_type": "stream",
     "text": [
      "Choosing a holiday destination really depends on what you're interested in seeing or doing. \n",
      "\n",
      "1. Italy: It's great for history, food, and art lovers. You can visit Rome, Florence, and Venice, among other beautiful cities.\n",
      "\n",
      "2. France: Ideal for those who love history, romance, and gourmet cuisine. Don't miss Paris, the French Riviera, and the wine regions.\n",
      "\n",
      "3. Australia: It offers a bit of everything - vibrant city life (Sydney, Melbourne), extraordinary wildlife, beautiful beaches, and great landscapes (Great Barrier Reef, Uluru).\n",
      "\n",
      "4. Japan: It's perfect for those who love technology combined with deep-rooted traditions. Tokyo, Kyoto, Hiroshima, and Osaka are must-visits.\n",
      "\n",
      "5. Costa Rica: It's a paradise for nature and adventure lovers, with its stunning beaches, lush rainforests, and diverse wildlife.\n",
      "\n",
      "6. Canada: It offers amazing landscapes, from the Rocky Mountains in Alberta to the multicultural city of Toronto and the historic sites in Quebec.\n",
      "\n",
      "Remember to consider the current state of travel restrictions or advisories due to COVID-19 when planning your super holiday.\n",
      "Number of tokens in the prompt was: 28\n"
     ]
    }
   ],
   "execution_count": 21
  },
  {
   "metadata": {
    "ExecuteTime": {
     "end_time": "2024-04-30T16:26:35.293397Z",
     "start_time": "2024-04-30T16:26:14.683867Z"
    }
   },
   "cell_type": "code",
   "source": "ask_new_response(\"What if I prefer mountains over beaches?\")",
   "id": "9a91f8da7ec47640",
   "outputs": [
    {
     "name": "stdout",
     "output_type": "stream",
     "text": [
      "If you prefer mountains over beaches, here are some countries that stand out for their stunning mountain landscapes:\n",
      "\n",
      "1. Switzerland: Known for the majestic Alps, Switzerland has many resort towns like Zermatt, Interlaken, and Lucerne offering mountain climbing, hiking, and skiing. \n",
      "\n",
      "2. Nepal: Home to Mount Everest, it's a mountaineer’s paradise. Apart from Everest, there are other beautiful peaks like Annapurna and Langtang.\n",
      "\n",
      "3. Peru: It's famous for the Andes Mountains and the historical site Machu Picchu, which offers breathtaking vistas.\n",
      "\n",
      "4. New Zealand: The Southern Alps in New Zealand provide stunning landscapes, adventurous hiking trails, and also experiences like bungy jumping or jet boating. \n",
      "\n",
      "5. Canada: The Canadian Rockies are known for their stunning beauty. Banff National Park is particularly renowned for its mountain scenery.\n",
      "\n",
      "6. Austria: Besides Switzerland, Austria also offers beautiful alpine landscapes. Towns like Innsbruck and Salzburg lies among the mountains and are well suited for skiing and hiking.\n",
      "\n",
      "7. Colorado, USA: If you're in the United States, Colorado might be a good option. It's famous for its Rocky Mountains with opportunities for hiking, rock climbing, and skiing.\n",
      "\n",
      "Remember, mountainous regions can have harsh climates and high altitude. Always check the local conditions, prepare accordingly, and ensure you're physically fit for mountain activities.\n",
      "Number of tokens in the prompt was: 274\n"
     ]
    }
   ],
   "execution_count": 22
  },
  {
   "metadata": {
    "ExecuteTime": {
     "end_time": "2024-04-30T16:28:26.286264Z",
     "start_time": "2024-04-30T16:28:11.032687Z"
    }
   },
   "cell_type": "code",
   "source": "ask_new_response(\"Austria sounds nice, what region should I go. I want to drive a maximum of 1200km from Utrecht?\")",
   "id": "79895af89e3af908",
   "outputs": [
    {
     "name": "stdout",
     "output_type": "stream",
     "text": [
      "From Utrecht, the most convenient regions in Austria for driving would be the western parts of Austria like Tyrol, Salzburg, and Vorarlberg, all of which are less than 1000 kilometers away.\n",
      "\n",
      "1. Tyrol: This region is known for its stunning mountain scenery. It is home to the city of Innsbruck, which is nestled in the Alps and offers numerous outdoor activities, such as hiking and skiing. There are also many charming alpine villages in Tyrol.\n",
      "\n",
      "2. Salzburg: This is the city of Mozart and 'The Sound of Music'. It is an enchanting city with a beautiful old town, a fortress sitting atop a hill, and the beautiful Salzach river flowing through. Nearby are also many mountains and lakes to explore.\n",
      "\n",
      "3. Vorarlberg: This is the westernmost part of Austria, bordering Switzerland and Germany. It's known for its alpine scenery and villages, along with Lake Constance (Bodensee), one of Europe’s largest freshwater lakes. \n",
      "\n",
      "Remember to take rest breaks during your drive and stay informed about the current COVID-19 regulations regarding travel and stay in Austria.\n",
      "Number of tokens in the prompt was: 596\n"
     ]
    }
   ],
   "execution_count": 23
  },
  {
   "metadata": {
    "ExecuteTime": {
     "end_time": "2024-04-30T16:29:34.335680Z",
     "start_time": "2024-04-30T16:29:17.508999Z"
    }
   },
   "cell_type": "code",
   "source": "ask_new_response(\"Innsburg it is, can you help me booking a hotel?\")",
   "id": "b7870491a60b8507",
   "outputs": [
    {
     "name": "stdout",
     "output_type": "stream",
     "text": [
      "I'm an AI developed by OpenAI and while I don't have the functionality to book hotels directly for users, I can certainly guide you through the process.\n",
      "\n",
      "Here's a quick step-by-step guide on how to book a hotel yourself:\n",
      "\n",
      "1. Decide on your dates. Know when you're going to check in and check out.\n",
      "\n",
      "2. Go to a hotel-booking website such as Booking.com, Hotels.com, Expedia, or Airbnb.\n",
      "\n",
      "3. Enter \"Innsbruck\" in the \"Destination\" field and input your dates. \n",
      "\n",
      "4. Set your price range. Based on your budget, adjust the price range to show the hotels you would consider.\n",
      "\n",
      "5. Check the location. Look at the hotel's location on the map to verify it's in an area you'd like to stay in. Innsbruck has a lovely downtown area that could be of interest.\n",
      "\n",
      "6. Check amenities. If there are certain amenities you want, such as free Wi-Fi or breakfast, a gym, or a hot tub, ensure those are available.\n",
      "\n",
      "7. Read reviews left by other travelers to ensure the quality of the hotel.\n",
      "\n",
      "8. Fill out the booking information once you've selected your hotel. Check everything carefully to ensure accuracy before you book.\n",
      "\n",
      "9. Enter your payment details as requested and complete the booking.\n",
      "\n",
      "Remember, booking directly from the hotel's website sometimes offers benefits such as better cancellation policies or loyalty program credits, so consider checking there before you make your final booking.\n",
      "Number of tokens in the prompt was: 852\n"
     ]
    }
   ],
   "execution_count": 24
  }
 ],
 "metadata": {
  "kernelspec": {
   "display_name": "Python 3",
   "language": "python",
   "name": "python3"
  },
  "language_info": {
   "codemirror_mode": {
    "name": "ipython",
    "version": 2
   },
   "file_extension": ".py",
   "mimetype": "text/x-python",
   "name": "python",
   "nbconvert_exporter": "python",
   "pygments_lexer": "ipython2",
   "version": "2.7.6"
  }
 },
 "nbformat": 4,
 "nbformat_minor": 5
}
